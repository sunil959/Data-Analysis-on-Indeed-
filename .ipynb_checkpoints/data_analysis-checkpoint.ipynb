{
 "cells": [
  {
   "cell_type": "code",
   "execution_count": 5,
   "metadata": {},
   "outputs": [],
   "source": [
    "import pandas as pd \n",
    "import numpy as np \n",
    "import matplotlib.pyplot as plt"
   ]
  },
  {
   "cell_type": "code",
   "execution_count": 8,
   "metadata": {},
   "outputs": [
    {
     "data": {
      "text/plain": [
       "(3215, 6)"
      ]
     },
     "execution_count": 8,
     "metadata": {},
     "output_type": "execute_result"
    }
   ],
   "source": [
    "df1 = pd.read_csv(\"C:/Users/Work/Documents/pandas/GlassDoor Salaries/Scrapping/MyScrape/datascience.csv\", encoding=\"utf-8\")\n",
    "df2 = pd.read_csv(\"C:/Users/Work/Documents/pandas/GlassDoor Salaries/Scrapping/MyScrape/ai.csv\", encoding=\"utf-8\")\n",
    "df3 = pd.read_csv(\"C:/Users/Work/Documents/pandas/GlassDoor Salaries/Scrapping/MyScrape/dataanalyst.csv\",  encoding=\"utf-8\")\n",
    "df4 = pd.read_csv(\"C:/Users/Work/Documents/pandas/GlassDoor Salaries/Scrapping/MyScrape/machinelearning.csv\",  encoding=\"utf-8\")\n",
    "df5 = pd.read_csv(\"C:/Users/Work/Documents/pandas/GlassDoor Salaries/Scrapping/MyScrape/dataengineer.csv\",  encoding=\"utf-8\")\n",
    "\n",
    "\n",
    "df=pd.concat([df1,df2,df3,df4,df5], axis=0).drop_duplicates()\n",
    "df.shape"
   ]
  },
  {
   "cell_type": "code",
   "execution_count": 10,
   "metadata": {},
   "outputs": [
    {
     "data": {
      "text/plain": [
       "(2319, 6)"
      ]
     },
     "execution_count": 10,
     "metadata": {},
     "output_type": "execute_result"
    }
   ],
   "source": [
    "df=df[df.Sponsored!='Sponsored']\n",
    "df.shape"
   ]
  },
  {
   "cell_type": "code",
   "execution_count": null,
   "metadata": {},
   "outputs": [],
   "source": []
  }
 ],
 "metadata": {
  "kernelspec": {
   "display_name": "Python 3",
   "language": "python",
   "name": "python3"
  },
  "language_info": {
   "codemirror_mode": {
    "name": "ipython",
    "version": 3
   },
   "file_extension": ".py",
   "mimetype": "text/x-python",
   "name": "python",
   "nbconvert_exporter": "python",
   "pygments_lexer": "ipython3",
   "version": "3.8.2"
  }
 },
 "nbformat": 4,
 "nbformat_minor": 4
}
