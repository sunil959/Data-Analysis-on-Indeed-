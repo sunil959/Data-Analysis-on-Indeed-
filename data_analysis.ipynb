{
 "cells": [
  {
   "cell_type": "code",
   "execution_count": 1,
   "metadata": {},
   "outputs": [],
   "source": [
    "import pandas as pd \n",
    "import numpy as np \n",
    "import matplotlib.pyplot as plt"
   ]
  },
  {
   "cell_type": "code",
   "execution_count": 2,
   "metadata": {},
   "outputs": [
    {
     "data": {
      "text/plain": [
       "(3215, 6)"
      ]
     },
     "execution_count": 2,
     "metadata": {},
     "output_type": "execute_result"
    }
   ],
   "source": [
    "df1 = pd.read_csv(\"G:/My_Data/Indeed_Project/datascience.csv\", encoding=\"utf-8\")\n",
    "df2 = pd.read_csv(\"G:/My_Data/Indeed_Project/ai.csv\", encoding=\"utf-8\")\n",
    "df3 = pd.read_csv(\"G:/My_Data/Indeed_Project/dataanalyst.csv\",  encoding=\"utf-8\")\n",
    "df4 = pd.read_csv(\"G:/My_Data/Indeed_Project/machinelearning.csv\",  encoding=\"utf-8\")\n",
    "df5 = pd.read_csv(\"G:/My_Data/Indeed_Project/dataengineer.csv\",  encoding=\"utf-8\")\n",
    "\n",
    "\n",
    "df=pd.concat([df1,df2,df3,df4,df5], axis=0).drop_duplicates()\n",
    "df.shape"
   ]
  },
  {
   "cell_type": "code",
   "execution_count": 3,
   "metadata": {},
   "outputs": [
    {
     "data": {
      "text/plain": [
       "(2319, 6)"
      ]
     },
     "execution_count": 3,
     "metadata": {},
     "output_type": "execute_result"
    }
   ],
   "source": [
    "df=df[df.Sponsored!='Sponsored']\n",
    "df.shape"
   ]
  },
  {
   "cell_type": "code",
   "execution_count": 4,
   "metadata": {},
   "outputs": [
    {
     "data": {
      "text/plain": [
       "Organic    2319\n",
       "Name: Sponsored, dtype: int64"
      ]
     },
     "execution_count": 4,
     "metadata": {},
     "output_type": "execute_result"
    }
   ],
   "source": [
    "df[\"Sponsored\"].value_counts()"
   ]
  },
  {
   "cell_type": "code",
   "execution_count": 5,
   "metadata": {},
   "outputs": [
    {
     "data": {
      "text/plain": [
       "<matplotlib.axes._subplots.AxesSubplot at 0x2966909d970>"
      ]
     },
     "execution_count": 5,
     "metadata": {},
     "output_type": "execute_result"
    },
    {
     "data": {
      "image/png": "[encoded data removed]",
      "text/plain": [
       "<Figure size 1440x360 with 1 Axes>"
      ]
     },
     "metadata": {
      "needs_background": "light"
     },
     "output_type": "display_data"
    }
   ],
   "source": [
    "counts = df.groupby(\"Company\").count()[\"Title\"].sort_values(ascending=False)[:20]\n",
    "counts.plot(kind = \"bar\",figsize=(20,5))"
   ]
  },
  {
   "cell_type": "code",
   "execution_count": 6,
   "metadata": {},
   "outputs": [
    {
     "data": {
      "text/plain": [
       "Location\n",
       "Bengaluru, Karnataka    771\n",
       "Mumbai, Maharashtra     278\n",
       "Pune, Maharashtra       188\n",
       "Hyderabad, Telangana    155\n",
       "India                   113\n",
       "Gurgaon, Haryana        105\n",
       "Chennai, Tamil Nadu      99\n",
       "Noida, Uttar Pradesh     69\n",
       "New Delhi, Delhi         50\n",
       "Ahmedabad, Gujarat       42\n",
       "Name: Title, dtype: int64"
      ]
     },
     "execution_count": 6,
     "metadata": {},
     "output_type": "execute_result"
    }
   ],
   "source": [
    "loc_counts = df.groupby(\"Location\").count()[\"Title\"].sort_values(ascending=False)[:10]\n",
    "loc_counts"
   ]
  },
  {
   "cell_type": "code",
   "execution_count": 7,
   "metadata": {},
   "outputs": [
    {
     "data": {
      "text/plain": [
       "410814.15277777775"
      ]
     },
     "execution_count": 7,
     "metadata": {},
     "output_type": "execute_result"
    }
   ],
   "source": [
    "def format_salary(row):\n",
    "    salary = row[\"Salary\"]\n",
    "    if \"-\" in salary:\n",
    "        split = salary.split(\"-\")\n",
    "        salary_min = split[0]\n",
    "        salary_max = split[1]\n",
    "    else:\n",
    "        salary_min = salary\n",
    "        salary_max = salary\n",
    "    \n",
    "    row[\"salary_min\"] = salary_min.replace(\"₹\",\"\").replace(\"a month\",\"\").replace(\"a year\",\"\").replace(\",\",\"\")\n",
    "    row[\"salary_max\"] = salary_max.replace(\"₹\",\"\").replace(\"a month\",\"\").replace(\"a year\",\"\").replace(\",\",\"\")\n",
    "       \n",
    "    if \"month\" in row[\"Salary\"]:\n",
    "        row[\"salary_min\"] = int(row[\"salary_min\"])*12\n",
    "        row[\"salary_max\"] = int(row[\"salary_max\"])*12\n",
    "    \n",
    "   \n",
    "    return row\n",
    "\n",
    "\n",
    "df_salary = df[df[\"Salary\"]!= \"None\"].dropna()\n",
    "df_salary = df_salary.apply(format_salary,axis=1) \n",
    "\n",
    "df_salary[\"salary_min\"] = pd.to_numeric(df_salary[\"salary_min\"],'coerce')\n",
    "df_salary[\"salary_max\"] = pd.to_numeric(df_salary[\"salary_max\"],'coerce')\n",
    "\n",
    "df_salary[\"salary_min\"].mean()"
   ]
  },
  {
   "cell_type": "code",
   "execution_count": 8,
   "metadata": {},
   "outputs": [],
   "source": [
    "def cleanData(desc):\n",
    "    desc = word_tokenize(desc)\n",
    "    desc = [word.lower() for word in desc if word.isalpha() and len(word) > 2]\n",
    "    desc = [word for word in desc if word not in stop_words]\n",
    "    return desc"
   ]
  },
  {
   "cell_type": "code",
   "execution_count": 10,
   "metadata": {},
   "outputs": [
    {
     "name": "stdout",
     "output_type": "stream",
     "text": [
      "Requirement already satisfied: nltk in c:\\users\\work\\appdata\\roaming\\python\\python38\\site-packages (3.5)\n",
      "Requirement already satisfied: click in c:\\users\\work\\appdata\\roaming\\python\\python38\\site-packages (from nltk) (7.1.2)\n",
      "Requirement already satisfied: regex in c:\\users\\work\\anaconda3\\envs\\training\\lib\\site-packages (from nltk) (2020.6.8)\n",
      "Requirement already satisfied: joblib in c:\\users\\work\\anaconda3\\envs\\training\\lib\\site-packages (from nltk) (0.15.1)\n",
      "Requirement already satisfied: tqdm in c:\\users\\work\\appdata\\roaming\\python\\python38\\site-packages (from nltk) (4.46.0)\n",
      "Note: you may need to restart the kernel to use updated packages.\n"
     ]
    }
   ],
   "source": [
    "pip install nltk"
   ]
  },
  {
   "cell_type": "code",
   "execution_count": 11,
   "metadata": {},
   "outputs": [
    {
     "name": "stdout",
     "output_type": "stream",
     "text": [
      "showing info https://raw.githubusercontent.com/nltk/nltk_data/gh-pages/index.xml\n"
     ]
    },
    {
     "data": {
      "text/plain": [
       "True"
      ]
     },
     "execution_count": 11,
     "metadata": {},
     "output_type": "execute_result"
    }
   ],
   "source": [
    "import nltk\n",
    "nltk.download()"
   ]
  },
  {
   "cell_type": "code",
   "execution_count": 12,
   "metadata": {},
   "outputs": [],
   "source": [
    "import nltk\n",
    "from nltk import word_tokenize\n",
    "\n",
    "from nltk.corpus import stopwords\n",
    "stop_words = stopwords.words('english')\n",
    "\n",
    "tags_df = df[\"Description\"].apply(cleanData)"
   ]
  },
  {
   "cell_type": "code",
   "execution_count": 13,
   "metadata": {},
   "outputs": [],
   "source": [
    "from collections import Counter\n",
    "result = tags_df.apply(Counter).sum().items()\n",
    "result = sorted(result, key=lambda kv: kv[1],reverse=True)\n",
    "result_series = pd.Series({k: v for k, v in result})"
   ]
  },
  {
   "cell_type": "code",
   "execution_count": 14,
   "metadata": {},
   "outputs": [],
   "source": [
    "skills = [\"experienced\",\"expert\",\"intern\",\"intermediate\",\"begineer\",\"fresher\"]"
   ]
  },
  {
   "cell_type": "code",
   "execution_count": 16,
   "metadata": {},
   "outputs": [
    {
     "data": {
      "text/plain": [
       "<matplotlib.axes._subplots.AxesSubplot at 0x2966cc9ba00>"
      ]
     },
     "execution_count": 16,
     "metadata": {},
     "output_type": "execute_result"
    },
    {
     "data": {
      "image/png": "[encoded data removed]",
      "text/plain": [
       "<Figure size 1440x360 with 1 Axes>"
      ]
     },
     "metadata": {
      "needs_background": "light"
     },
     "output_type": "display_data"
    }
   ],
   "source": [
    "filter_series = result_series.filter(items=skills)\n",
    "filter_series.plot(kind = 'bar',figsize=(20,5))"
   ]
  },
  {
   "cell_type": "code",
   "execution_count": null,
   "metadata": {},
   "outputs": [],
   "source": []
  }
 ],
 "metadata": {
  "kernelspec": {
   "display_name": "Python 3",
   "language": "python",
   "name": "python3"
  },
  "language_info": {
   "codemirror_mode": {
    "name": "ipython",
    "version": 3
   },
   "file_extension": ".py",
   "mimetype": "text/x-python",
   "name": "python",
   "nbconvert_exporter": "python",
   "pygments_lexer": "ipython3",
   "version": "3.8.3"
  }
 },
 "nbformat": 4,
 "nbformat_minor": 4
}
